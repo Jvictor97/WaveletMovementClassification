{
 "cells": [
  {
   "cell_type": "markdown",
   "metadata": {},
   "source": [
    "# Projeto"
   ]
  },
  {
   "cell_type": "markdown",
   "metadata": {},
   "source": [
    "- Aumentar a base de dados\n",
    "- Utilizar o transformada wavelet no caso do EMG, ou  densidade espectral nas 5 faixas específicas do EEG como features"
   ]
  },
  {
   "cell_type": "code",
   "execution_count": 1,
   "metadata": {},
   "outputs": [],
   "source": [
    "import pywt\n",
    "import scipy.io\n",
    "from sklearn.neural_network import MLPClassifier\n",
    "import matplotlib.pyplot as plt\n",
    "import numpy as np\n",
    "import pandas as pd\n",
    "from sklearn.model_selection import train_test_split"
   ]
  },
  {
   "cell_type": "code",
   "execution_count": 2,
   "metadata": {},
   "outputs": [],
   "source": [
    "file = scipy.io.loadmat('./EMG_Dataset/Database1/male_1.mat')"
   ]
  },
  {
   "cell_type": "markdown",
   "metadata": {},
   "source": [
    "# Resumo"
   ]
  },
  {
   "cell_type": "markdown",
   "metadata": {},
   "source": []
  },
  {
   "cell_type": "markdown",
   "metadata": {},
   "source": [
    "# Introdução"
   ]
  },
  {
   "cell_type": "markdown",
   "metadata": {},
   "source": []
  },
  {
   "cell_type": "markdown",
   "metadata": {},
   "source": [
    "# Metodologia"
   ]
  },
  {
   "cell_type": "markdown",
   "metadata": {},
   "source": []
  },
  {
   "cell_type": "markdown",
   "metadata": {},
   "source": [
    "# Resultados"
   ]
  },
  {
   "cell_type": "code",
   "execution_count": null,
   "metadata": {},
   "outputs": [],
   "source": []
  },
  {
   "cell_type": "markdown",
   "metadata": {},
   "source": [
    "# Conclusão"
   ]
  },
  {
   "cell_type": "code",
   "execution_count": null,
   "metadata": {},
   "outputs": [],
   "source": []
  },
  {
   "cell_type": "markdown",
   "metadata": {},
   "source": [
    "# Metodologia"
   ]
  },
  {
   "cell_type": "markdown",
   "metadata": {},
   "source": [
    "1. Será utilizado o método Wavelet para calcular os coeficientes dos dados de entrada para cada canal\n",
    "2. Para cada coeficiente (6) retornados será calculado o valor médio\n",
    "3. Os dois vetores de 6 médias (1 para cada canal) serão concatenados e usados como entrada para o MLP"
   ]
  },
  {
   "cell_type": "code",
   "execution_count": 6,
   "metadata": {},
   "outputs": [],
   "source": [
    "levels = 3\n",
    "mother_function = 'coif5'"
   ]
  },
  {
   "cell_type": "code",
   "execution_count": 120,
   "metadata": {},
   "outputs": [],
   "source": [
    "movements = {\n",
    "    'cyl': {\n",
    "        'c1': np.array(file['cyl_ch1'][0:30]),\n",
    "        'c2': np.array(file['cyl_ch2'][0:30])\n",
    "    },\n",
    "    'tip': {\n",
    "        'c1': np.array(file['tip_ch1'][0:30]),\n",
    "        'c2': np.array(file['tip_ch2'][0:30])\n",
    "    },\n",
    "    'hook': {\n",
    "        'c1': np.array(file['hook_ch1'][0:30]),\n",
    "        'c2': np.array(file['hook_ch2'][0:30])\n",
    "    },\n",
    "    'palm': {\n",
    "        'c1': np.array(file['palm_ch1'][0:30]),\n",
    "        'c2': np.array(file['palm_ch2'][0:30])\n",
    "    },\n",
    "    'spher': {\n",
    "        'c1': np.array(file['spher_ch1'][0:30]),\n",
    "        'c2': np.array(file['spher_ch2'][0:30])\n",
    "    },\n",
    "    'lat': {\n",
    "        'c1': np.array(file['lat_ch1'][0:30]),\n",
    "        'c2': np.array(file['lat_ch2'][0:30])\n",
    "    }\n",
    "}"
   ]
  },
  {
   "cell_type": "code",
   "execution_count": 121,
   "metadata": {},
   "outputs": [],
   "source": [
    "coefs = {\n",
    "    'cyl': [],\n",
    "    'tip': [],\n",
    "    'hook': [],\n",
    "    'palm': [],\n",
    "    'spher': [],\n",
    "    'lat': []\n",
    "}"
   ]
  },
  {
   "cell_type": "code",
   "execution_count": 122,
   "metadata": {},
   "outputs": [],
   "source": [
    "out_counter = 0\n",
    "for movement, channels in movements.items():\n",
    "    experiments_c1 = channels['c1']\n",
    "    experiments_c2 = channels['c2']\n",
    "    \n",
    "    for experiment in range(30):\n",
    "        c1 = experiments_c1[experiment]\n",
    "        c2 = experiments_c2[experiment]\n",
    "\n",
    "        coefficients = pywt.wavedec(c1, mother_function, level=levels) + pywt.wavedec(c2, mother_function, level=levels)\n",
    "        max_coefs = []\n",
    "        for coefficient in coefficients:\n",
    "            max_coef = max(coefficient)\n",
    "\n",
    "            max_coefs.append(max_coef)\n",
    "\n",
    "        coefs[movement].append(max_coefs)\n",
    "        \n",
    "    coefs[movement] = pd.DataFrame(coefs[movement])\n",
    "    coefs[movement]['out'] = out_counter\n",
    "    out_counter += 1"
   ]
  },
  {
   "cell_type": "code",
   "execution_count": 123,
   "metadata": {},
   "outputs": [],
   "source": [
    "dataset = pd.DataFrame()\n",
    "for key, data in coefs.items():\n",
    "    dataset = dataset.append(data)"
   ]
  },
  {
   "cell_type": "code",
   "execution_count": 124,
   "metadata": {},
   "outputs": [],
   "source": [
    "y = dataset['out']\n",
    "x = dataset.drop(['out'], axis=1)"
   ]
  },
  {
   "cell_type": "code",
   "execution_count": 139,
   "metadata": {},
   "outputs": [],
   "source": [
    "x_train, x_test, y_train, y_test = train_test_split(x, y, test_size=0.3)\n",
    "mlp = MLPClassifier(hidden_layer_sizes=(25), max_iter=5000)"
   ]
  },
  {
   "cell_type": "markdown",
   "metadata": {},
   "source": [
    "# Resultados"
   ]
  },
  {
   "cell_type": "code",
   "execution_count": null,
   "metadata": {},
   "outputs": [],
   "source": [
    "score = 0\n",
    "while(score < 0.87):\n",
    "    mlp.fit(x_train, y_train)\n",
    "    score = mlp.score(x_test, y_test)"
   ]
  },
  {
   "cell_type": "code",
   "execution_count": null,
   "metadata": {},
   "outputs": [],
   "source": [
    "mlp.fit(x_train, y_train)\n",
    "mlp.score(x_test, y_test)"
   ]
  }
 ],
 "metadata": {
  "kernelspec": {
   "display_name": "Python 3",
   "language": "python",
   "name": "python3"
  },
  "language_info": {
   "codemirror_mode": {
    "name": "ipython",
    "version": 3
   },
   "file_extension": ".py",
   "mimetype": "text/x-python",
   "name": "python",
   "nbconvert_exporter": "python",
   "pygments_lexer": "ipython3",
   "version": "3.9.0"
  }
 },
 "nbformat": 4,
 "nbformat_minor": 4
}
