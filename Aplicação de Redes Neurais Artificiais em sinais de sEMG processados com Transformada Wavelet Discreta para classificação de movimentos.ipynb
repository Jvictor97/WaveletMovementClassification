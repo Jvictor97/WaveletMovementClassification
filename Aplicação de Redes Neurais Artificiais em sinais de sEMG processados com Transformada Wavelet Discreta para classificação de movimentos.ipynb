{
 "cells": [
  {
   "cell_type": "markdown",
   "metadata": {},
   "source": [
    "**Resumo**"
   ]
  },
  {
   "cell_type": "markdown",
   "metadata": {},
   "source": [
    "O eletromiograma de superfície (sEMG) é um biopotencial que pode ser utilizado em diversas aplicações na medicina, sendo a maior parte, para sistemas de reabilitação ou acessibilidade. Esse projeto realiza a aplicação da Transformada Wavelet Discreta (TWD) em um dataset aberto com sinais de sEMG para a classificação de 6 movimentos realizados por pacientes saudáveis. Para a classificação foi utilizado um modelo de Perceptron Multicamadas (MLP) que obteve uma precisão de 90% no experimento realizado. O trabalho pode ser melhorado com o aumento do dataset e mais testes precisam ser realizados com o uso de métricas para melhor avaliar seus resultados."
   ]
  },
  {
   "cell_type": "markdown",
   "metadata": {},
   "source": [
    "# Introdução"
   ]
  },
  {
   "cell_type": "markdown",
   "metadata": {},
   "source": [
    "Sinais de sEMG podem ser amplamente utilizados em diversas aplicações como sistemas para reabilitação, controle de membros robóticos e de próteses mecânicas [[1]](#1)[[2]](#2). \n",
    "\n",
    "Para um correto controle das próteses, é necessário que seja possível identificar os movimentos realizados pelo paciente com precisão e uma forma de realizar essa identificação é por meio de algoritmos de Inteligência Artificial. Diversos trabalhos propuseram metodologias de processamento de sinais para melhorar a precisão de modelos de classificação de movimentos, sendo que, uma metodologia que apresentou destaque consiste no uso da Transformada Wavelet Discreta para análise da distribuição das frequências do sinal no tempo [3].\n",
    "\n",
    "Um estudo foi realizado utilizando essa metodologia para a classificação de 6 tipos de movimentos de pacientes saudáveis e obteve resultados médios de 94,67% de precisão [3], porém, o mesmo não pode ser replicado em sua íntegra, visto que o datset utilizado para o treinamento e classificação do modelo não foi disponibilizado pelos pesquisadores.\n",
    "\n",
    "Assim, tendo em vista as extensas aplicações de modelos preditivos para sinais de sEMG na área médica e a alta performance do algoritmo proposto é de suma importância que a metodologia proposta possa ser replicada e validada com outros datasets para averiguar sua flexibilidade e viabilidade de aplicação em cenários distintos.\n",
    "\n",
    "O estudo realizado em (Sapsanis, 2013) realizou a coleta de dados de pacientes saudáveis para a classificação de seis movimentos utilizando Análise de Componentes Principais (PCA) e algoritmos de seleção de atributos para alimentar um modelo  linear de classificação. Esse estudo forneceu o dataset utilizado publicamente, o qual pode ser obtido através do repositório UCI.\n",
    "\n",
    "Portanto, esse projeto propõe aplicar os conceitos já estudados para o uso da Transformada Wavelet Discreta em sinais de sEMG para reconhecimento de movimentos [3], aplicando-os em um dataset aberto para a classificação de 6 movimentos realizados por pacientes saudáveis [1]."
   ]
  },
  {
   "cell_type": "markdown",
   "metadata": {},
   "source": [
    "# Metodologia"
   ]
  },
  {
   "cell_type": "markdown",
   "metadata": {},
   "source": [
    "A metodologia utilizada nesse projeto toma como premissa a análise realizada em (Duan, 2016) com a diferença que, para a aplicação em questão não é utilizada uma *Wavelet Neural Network* e sim um Perceptron Multicamadas com configurações definidas empiricamente durante o experimento.\n",
    "\n",
    "Nesse projeto foi realizado o processamento dos sinais de EMG utilizando a Transformada Wavelet Discreta (TWD) e os coeficientes obtidos foram utilizados como entradas para um Perceptron Multicamadas (MLP) para a classificação em 6 possíveis categorias de movimento, sendo:\n",
    "\n",
    "| Código | Pegada/Classe |\n",
    "|--------|------------|\n",
    "| 0      | Cilíndrica |\n",
    "| 1      | Pinça      |\n",
    "| 2      | Gancho     |\n",
    "| 3      | Palmar     |\n",
    "| 4      | Esférica   |\n",
    "| 5      | Lateral    |\n",
    "<center>Tabela 1 - Movimentos utilizados como categorias no classificador</center>"
   ]
  },
  {
   "cell_type": "markdown",
   "metadata": {},
   "source": [
    "Os demais tópicos dessa seção estão organizados da seguinte forma: A Subseção [2.1 Dataset](#Dataset) contém informações sobre como os dados para o projeto foram obtidos; a Subseção [2.2 Wavelet](#Wavelet) explica como foi utilizada a TWD para preparação do dataset e a Subseção [2.3 MLP](#MLP) aborda a aplicação do modelo de Perceptron Multicamadas para classificação dos movimentos.\n",
    "\n",
    "## Dataset\n",
    "\n",
    "Os dados utilizados no experimento foram coletados de *(Sapsanis, 2013)*. Nessa pesquisa, foram utilizados seis pacientes saudáveis (2 homens e 4 mulheres)  com idades entre 20 e 22 anos. Os pacientes realizaram os seis movimentos citados na Tabela 1, durante 6 segundos. Cada movimento foi repetido pelos pacientes 30 vezes e foram utilizados dois canais para a leitura do sinal de EMG. Assim, para cada paciente foi gerado um dataset contendo 180 registros de EMG de 6 segundos captados dois canais.\n",
    "\n",
    "Para o experimento em questão foram utilizados somente os dados do primeiro paciente do sexo masculino, denominado no dataset como `male_1`.\n",
    "\n",
    "## Wavelet\n",
    "\n",
    "A análise de frequências no tempo, para sinais não estacionários, utilizando Transformada Discreta de Wavelet apresentou performances promissoras na literatura científica [3]. Esse método permite particionar as frequências de um sinal em porções do tempo, agregando maior nível de escala no tempo para frequências mais altas - que variam mais no tempo - e menor nível de escala para frequências mais baixas - que tendem a se mander constantes no tempo. \n",
    "\n",
    "A Transformada Wavelet Discreta pode ser executada com diversos níveis cada um oferecendo maior separação e detalhamento das frequências e, para seu processamento podem ser escolhidas diversas funções de aproximação. Nesse experimento foram utilizadas as mesmas configurações aplicadas em (Duan, 2016), sendo assim, foram aplicados 3 níveis na TWD com uso da função de aproximação `coif5`.\n",
    "\n",
    "A TWD foi executada para os dois canais de cada uma das 30 repetições de cada movimento realizados pelo paciente `male_1`. Em cada execução da Transformada são retornados 4 vetores de coeficientes, sendo 3 vetores de Detalhe e 1 vetor de Aproximação. De cada vetor foi extraído o coeficiente de maior valor, assim resultando em 8 `features` para cada execução do paciente.\n",
    "\n",
    "Portanto, o dataset final foi composto por uma matriz de 180 linhas (uma para cada experimento) e 8 colunas contendo os coeficientes de maior valor retornados pela TWD. A cada movimento foi atribuído um label numérico de 0 a 5, conforme especificado na Tabela 1.\n",
    "\n",
    "## MLP\n",
    "\n",
    "O modelo utilizado para classificação dos movimentos foi um Perceptron Multicamadas (MLP) obtido pela biblioteca `Scikit-Learn`. Para o treinamento do MLP foram utilizados os seguintes parâmetros definidos empiricamente:\n",
    "\n",
    "- Camadas escondidas: 3 camadas com 9 neurônios em cada\n",
    "- Máximo de Iterações: 10.000\n",
    "- Taxa de Aprendizado Inicial: 0,005\n",
    "- Nº de Iterações sem melhora até parar o treinamento: 100"
   ]
  },
  {
   "cell_type": "markdown",
   "metadata": {},
   "source": [
    "# Código Fonte"
   ]
  },
  {
   "cell_type": "code",
   "execution_count": 16,
   "metadata": {},
   "outputs": [],
   "source": [
    "# Importa as bibliotecas necessárias\n",
    "import pywt\n",
    "import scipy.io\n",
    "from sklearn.neural_network import MLPClassifier\n",
    "import matplotlib.pyplot as plt\n",
    "import numpy as np\n",
    "import pandas as pd\n",
    "from sklearn.model_selection import train_test_split\n",
    "\n",
    "# Lê o conteúdo do arquivo de dados para o primeiro paciente\n",
    "file = scipy.io.loadmat('./EMG_Dataset/Database1/male_1.mat')\n",
    "\n",
    "# Variáveis usadas para a TWD\n",
    "levels = 3\n",
    "mother_function = 'coif5'\n",
    "\n",
    "# Dicionário de movimentos e leituras dos canais\n",
    "movements = {\n",
    "    'cyl': {\n",
    "        'c1': np.array(file['cyl_ch1'][0:30]),\n",
    "        'c2': np.array(file['cyl_ch2'][0:30])\n",
    "    },\n",
    "    'tip': {\n",
    "        'c1': np.array(file['tip_ch1'][0:30]),\n",
    "        'c2': np.array(file['tip_ch2'][0:30])\n",
    "    },\n",
    "    'hook': {\n",
    "        'c1': np.array(file['hook_ch1'][0:30]),\n",
    "        'c2': np.array(file['hook_ch2'][0:30])\n",
    "    },\n",
    "    'palm': {\n",
    "        'c1': np.array(file['palm_ch1'][0:30]),\n",
    "        'c2': np.array(file['palm_ch2'][0:30])\n",
    "    },\n",
    "    'spher': {\n",
    "        'c1': np.array(file['spher_ch1'][0:30]),\n",
    "        'c2': np.array(file['spher_ch2'][0:30])\n",
    "    },\n",
    "    'lat': {\n",
    "        'c1': np.array(file['lat_ch1'][0:30]),\n",
    "        'c2': np.array(file['lat_ch2'][0:30])\n",
    "    }\n",
    "}\n",
    "\n",
    "# Dicionário para os coeficientes da TWD\n",
    "coefs = {\n",
    "    'cyl': [],\n",
    "    'tip': [],\n",
    "    'hook': [],\n",
    "    'palm': [],\n",
    "    'spher': [],\n",
    "    'lat': []\n",
    "}\n",
    "\n",
    "# Processamento dos sinais com TWD e separação dos coeficientes\n",
    "# >> Para cada um dos 30 experimentos processa o sinal de sEMG \n",
    "#    e coleta os maiores coeficientes de cada vetor retornado\n",
    "out_counter = 0\n",
    "for movement, channels in movements.items():\n",
    "    experiments_c1 = channels['c1']\n",
    "    experiments_c2 = channels['c2']\n",
    "    \n",
    "    for experiment in range(30):\n",
    "        c1 = experiments_c1[experiment]\n",
    "        c2 = experiments_c2[experiment]\n",
    "\n",
    "        coefficients = pywt.wavedec(c1, mother_function, level=levels) + pywt.wavedec(c2, mother_function, level=levels)\n",
    "        max_coefs = []\n",
    "        for coefficient in coefficients:\n",
    "            max_coef = max(coefficient)\n",
    "\n",
    "            max_coefs.append(max_coef)\n",
    "\n",
    "        coefs[movement].append(max_coefs)\n",
    "        \n",
    "    coefs[movement] = pd.DataFrame(coefs[movement])\n",
    "    coefs[movement]['out'] = out_counter\n",
    "    out_counter += 1\n",
    "\n",
    "# Construção do dataset com todos os coeficientes\n",
    "dataset = pd.DataFrame()\n",
    "for key, data in coefs.items():\n",
    "    dataset = dataset.append(data)\n",
    "\n",
    "# Separa features (x) e output (y)\n",
    "y = dataset['out']\n",
    "x = dataset.drop(['out'], axis=1)"
   ]
  },
  {
   "cell_type": "markdown",
   "metadata": {},
   "source": [
    "# Resultados"
   ]
  },
  {
   "cell_type": "markdown",
   "metadata": {},
   "source": [
    "O dataset preparado foi reordenado aleatóriamente e foram separados 50% dos dados para treinamento do modelo e 50% para teste. O código para treinamento do modelo bem como o resultado do teste de `score` (precisão) realizado podem ser observados abaixo:"
   ]
  },
  {
   "cell_type": "code",
   "execution_count": 12,
   "metadata": {},
   "outputs": [
    {
     "data": {
      "text/plain": [
       "0.9"
      ]
     },
     "execution_count": 12,
     "metadata": {},
     "output_type": "execute_result"
    }
   ],
   "source": [
    "x_train, x_test, y_train, y_test = train_test_split(x, y, test_size=0.5)\n",
    "mlp = MLPClassifier(\n",
    "    hidden_layer_sizes=(9,9,9), \n",
    "    max_iter=10000, \n",
    "    learning_rate_init=0.005, \n",
    "    n_iter_no_change=100\n",
    ")\n",
    "mlp.fit(x_train, y_train)\n",
    "mlp.score(x_test, y_test)"
   ]
  },
  {
   "cell_type": "markdown",
   "metadata": {},
   "source": [
    "# Conclusões\n"
   ]
  },
  {
   "cell_type": "markdown",
   "metadata": {},
   "source": [
    "Esse projeto propôs realizar a aplicação de uma metodologia já definida para processamento de sinais de sEMG com a Transformada Wavelet Discreta [3] em um dataset distinto com o objetivo de estudar a flexibilidade do modelo proposto.\n",
    "\n",
    "Pode-se concluir que o experimento demonstrou a viabilidade da aplicação dos conceitos analisados em (Duan, 2016), de uso da Transformada Wavelet Discreta em um dataset completamente distinto, contendo informações coletadas com menos canais e para movimentos distintos daqueles inicialmente analisados.\n",
    "\n",
    "O experimento realizado, porém, carece de maiores análises estatísticas para agregar confiabilidade a seu resultado. E poderia se beneficiar também de demais testes utilizando o dataset completo disponibilizado por (Sapsanis, 2013) bem como em datasets maiores, a fim de melhor analisar as limitações do modelo utilizado."
   ]
  },
  {
   "cell_type": "markdown",
   "metadata": {},
   "source": [
    "# Bibliografia"
   ]
  },
  {
   "cell_type": "markdown",
   "metadata": {},
   "source": [
    "<a id=\"1\">[1] C. Sapsanis, G. Georgoulas, e A. Tzes, “EMG based classification of basic hand movements based on time-frequency features”, in 21st Mediterranean Conference on Control and Automation, Platanias, Chania - Crete, Greece, jun. 2013, p. 716–722, doi: 10.1109/MED.2013.6608802.</a>\n",
    "\n",
    "\n",
    "<a id=\"2\">[2] M. C. F. Castro, E. L. Colombini, P. T. Junior, S. P. Arjunan, e D. K. Kumar, “sEMG feature evaluation for identification of elbow angle resolution in graded arm movement”, BioMed Eng OnLine, vol. 13, nº 1, p. 155, 2014, doi: 10.1186/1475-925X-13-155.</a>\n",
    "\n",
    "\n",
    "<a id=\"3\">[3] F. Duan, L. Dai, W. Chang, Z. Chen, C. Zhu, e W. Li, “sEMG-Based Identification of Hand Motion Commands Using Wavelet Neural Network Combined With Discrete Wavelet Transform”, IEEE Trans. Ind. Electron., vol. 63, nº 3, p. 1923–1934, mar. 2016, doi: 10.1109/TIE.2015.2497212.</a>"
   ]
  }
 ],
 "metadata": {
  "kernelspec": {
   "display_name": "Python 3",
   "language": "python",
   "name": "python3"
  },
  "language_info": {
   "codemirror_mode": {
    "name": "ipython",
    "version": 3
   },
   "file_extension": ".py",
   "mimetype": "text/x-python",
   "name": "python",
   "nbconvert_exporter": "python",
   "pygments_lexer": "ipython3",
   "version": "3.9.0"
  }
 },
 "nbformat": 4,
 "nbformat_minor": 4
}
