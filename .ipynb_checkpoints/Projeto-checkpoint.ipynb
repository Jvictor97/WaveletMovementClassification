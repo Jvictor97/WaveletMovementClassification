{
 "cells": [
  {
   "cell_type": "markdown",
   "metadata": {},
   "source": [
    "# Projeto"
   ]
  },
  {
   "cell_type": "markdown",
   "metadata": {},
   "source": [
    "- Aumentar a base de dados\n",
    "- Utilizar o transformada wavelet no caso do EMG, ou  densidade espectral nas 5 faixas específicas do EEG como features"
   ]
  },
  {
   "cell_type": "code",
   "execution_count": 1,
   "metadata": {},
   "outputs": [],
   "source": [
    "import pywt\n",
    "import scipy.io\n",
    "from sklearn.neural_network import MLPClassifier\n",
    "import matplotlib.pyplot as plt\n",
    "import numpy as np\n",
    "import pandas as pd\n",
    "from sklearn.model_selection import train_test_split"
   ]
  },
  {
   "cell_type": "code",
   "execution_count": 2,
   "metadata": {},
   "outputs": [],
   "source": [
    "file = scipy.io.loadmat('./EMG_Dataset/Database1/male_1.mat')"
   ]
  },
  {
   "cell_type": "markdown",
   "metadata": {},
   "source": [
    "# Metodologia"
   ]
  },
  {
   "cell_type": "markdown",
   "metadata": {},
   "source": [
    "1. Será utilizado o método Wavelet para calcular os coeficientes dos dados de entrada para cada canal\n",
    "2. Para cada coeficiente (6) retornados será calculado o valor médio\n",
    "3. Os dois vetores de 6 médias (1 para cada canal) serão concatenados e usados como entrada para o MLP"
   ]
  },
  {
   "cell_type": "code",
   "execution_count": 72,
   "metadata": {},
   "outputs": [],
   "source": [
    "def calculate_wavelet(c1, c2, out):\n",
    "    # Calcula o Wavelet para cada canal\n",
    "    coefficients_c1 = pywt.wavedec(c1, 'db4', level=5)\n",
    "    coefficients_c2 = pywt.wavedec(c2, 'db4', level=5)\n",
    "    \n",
    "    # Calcula a média dos coeficientes para cada canal\n",
    "    avg_c1 = [sum(coefficient)/len(coefficient) for coefficient in coefficients_c1]\n",
    "    avg_c2 = [sum(coefficient)/len(coefficient) for coefficient in coefficients_c2]\n",
    "    \n",
    "    # Concatena os resultados\n",
    "    averages = [*avg_c1, *avg_c2]\n",
    "       \n",
    "    return pd.DataFrame(zip(averages, out), columns=['value', 'out'])"
   ]
  },
  {
   "cell_type": "code",
   "execution_count": 102,
   "metadata": {},
   "outputs": [],
   "source": [
    "def calculate_wavelet_v2(c1, c2, out):\n",
    "    # Calcula o Wavelet para cada canal\n",
    "    channels = [*c1, *c2]\n",
    "    coefficients = pywt.wavedec(channels, 'db4', level=5)\n",
    "   \n",
    "    # Calcula a média dos coeficientes para cada canal\n",
    "    avg = [sum(coefficient)/len(coefficient) for coefficient in coefficients]\n",
    "       \n",
    "    return pd.DataFrame(zip(avg, out), columns=['value', 'out'])"
   ]
  },
  {
   "cell_type": "code",
   "execution_count": 121,
   "metadata": {},
   "outputs": [],
   "source": [
    "def calculate_wavelet_v2(c1, c2, out):\n",
    "    # Calcula o Wavelet para cada canal\n",
    "    #channels = [*c1, *c2]\n",
    "    channels = [(v1 + v2 / 2) for v1,v2 in zip(c1,c2)]\n",
    "    coefficients = pywt.wavedec(channels, 'db4', level=5)\n",
    "   \n",
    "    # Calcula a média dos coeficientes para cada canal\n",
    "    avg = [sum(coefficient)/len(coefficient) for coefficient in coefficients]\n",
    "       \n",
    "    return pd.DataFrame(zip(avg, out), columns=['value', 'out'])"
   ]
  },
  {
   "cell_type": "code",
   "execution_count": 121,
   "metadata": {},
   "outputs": [],
   "source": [
    "def calculate_wavelet_v3(c1, c2, out):\n",
    "    # Calcula o Wavelet para cada canal   \n",
    "    channels = [*c1, *c2]\n",
    "    coefficients = pywt.wavedec(channels, 'db4', level=5)\n",
    "    min_len = None\n",
    "    \n",
    "    for coefficient in coefficients: \n",
    "        if min_len == None or len(coefficient) < min_len:\n",
    "            min_len = len(coefficient)\n",
    "            \n",
    "       \n",
    "    return pd.DataFrame(zip(avg, out), columns=['value', 'out'])"
   ]
  },
  {
   "cell_type": "code",
   "execution_count": 17,
   "metadata": {},
   "outputs": [],
   "source": [
    "def run_mlp(x, y):\n",
    "    x_train, x_test, y_train, y_test = train_test_split(x, y, test_size=0.3)\n",
    "    clf = MLPClassifier(hidden_layer_sizes=(300,300,300), max_iter=5000)\n",
    "    clf.fit(x_train, y_train)\n",
    "    return clf.score(x_test, y_test)"
   ]
  },
  {
   "cell_type": "code",
   "execution_count": 73,
   "metadata": {},
   "outputs": [],
   "source": [
    "def method1(file):\n",
    "    cyl_c1 = np.array(file['cyl_ch1'][0:30]).flatten()\n",
    "    cyl_c2 = np.array(file['cyl_ch2'][0:30]).flatten()\n",
    "\n",
    "    tip_c1 = np.array(file['tip_ch1'][0:30]).flatten()\n",
    "    tip_c2 = np.array(file['tip_ch2'][0:30]).flatten()\n",
    "\n",
    "    cyl_df = pd.DataFrame(list(zip(cyl_c1, cyl_c2)), columns=['C1', 'C2'])\n",
    "    tip_df = pd.DataFrame(list(zip(tip_c1, tip_c2)), columns=['C1', 'C2'])\n",
    "\n",
    "    cyl_df['out'] = 0\n",
    "    tip_df['out'] = 1\n",
    "    \n",
    "    cyl = calculate_wavelet(cyl_df['C1'], cyl_df['C2'], cyl_df['out'])\n",
    "    tip = calculate_wavelet(tip_df['C1'], tip_df['C2'], tip_df['out'])\n",
    "    return cyl, tip"
   ]
  },
  {
   "cell_type": "code",
   "execution_count": 103,
   "metadata": {},
   "outputs": [],
   "source": [
    "def method2(file):\n",
    "    cyl_df = pd.DataFrame()\n",
    "    tip_df = pd.DataFrame()\n",
    "\n",
    "    for experiment in range(30):\n",
    "        cyl_c1 = file['cyl_ch1'][experiment]\n",
    "        cyl_c2 = file['cyl_ch2'][experiment]\n",
    "        \n",
    "        tip_c1 = file['tip_ch1'][experiment]\n",
    "        tip_c2 = file['tip_ch2'][experiment]\n",
    "        \n",
    "        cyl_df = cyl_df.append(calculate_wavelet_v2(cyl_c1, cyl_c2, [0]*len(cyl_c1)))\n",
    "        tip_df = tip_df.append(calculate_wavelet_v2(tip_c1, tip_c2, [1]*len(tip_c1)))      \n",
    "    \n",
    "    return cyl_df, tip_df"
   ]
  },
  {
   "cell_type": "code",
   "execution_count": 122,
   "metadata": {},
   "outputs": [],
   "source": [
    "def make_dataset(file):\n",
    "    #cyl, tip = method1(file)\n",
    "    cyl, tip = method2(file)\n",
    "    \n",
    "    data_full_df = cyl.append(tip)\n",
    "    shuffled = data_full_df.sample(frac=1).reset_index(drop=True)\n",
    "\n",
    "    y = shuffled['out']\n",
    "    x = shuffled.drop(['out'], axis=1)\n",
    "    return (x,y)"
   ]
  },
  {
   "cell_type": "code",
   "execution_count": 136,
   "metadata": {},
   "outputs": [],
   "source": [
    "def run_mlp(x, y):\n",
    "    x_train, x_test, y_train, y_test = train_test_split(x, y, test_size=0.3)\n",
    "    clf = MLPClassifier(hidden_layer_sizes=(300,300,300), max_iter=10000)\n",
    "    #clf = MLPClassifier(max_iter=1000)\n",
    "    clf.fit(x_train, y_train)\n",
    "    return clf.score(x_test, y_test)"
   ]
  },
  {
   "cell_type": "code",
   "execution_count": 137,
   "metadata": {},
   "outputs": [],
   "source": [
    "x, y = make_dataset(file)"
   ]
  },
  {
   "cell_type": "code",
   "execution_count": 139,
   "metadata": {},
   "outputs": [
    {
     "data": {
      "text/plain": [
       "0.49074074074074076"
      ]
     },
     "execution_count": 139,
     "metadata": {},
     "output_type": "execute_result"
    }
   ],
   "source": [
    "run_mlp(x,y)"
   ]
  },
  {
   "cell_type": "code",
   "execution_count": 3,
   "metadata": {},
   "outputs": [],
   "source": [
    "cc1 = np.array(file['cyl_ch1'][0:30])\n",
    "cc2 = np.array(file['cyl_ch2'][0:30])"
   ]
  },
  {
   "cell_type": "code",
   "execution_count": 4,
   "metadata": {},
   "outputs": [],
   "source": [
    "tc1 = np.array(file['tip_ch1'][0:30])\n",
    "tc2 = np.array(file['tip_ch2'][0:30])"
   ]
  },
  {
   "cell_type": "code",
   "execution_count": 5,
   "metadata": {},
   "outputs": [],
   "source": [
    "cyl_coefs = []\n",
    "tip_coefs = []"
   ]
  },
  {
   "cell_type": "code",
   "execution_count": 6,
   "metadata": {},
   "outputs": [],
   "source": [
    "levels = 3\n",
    "mother_function = 'coif5'"
   ]
  },
  {
   "cell_type": "code",
   "execution_count": 7,
   "metadata": {},
   "outputs": [],
   "source": [
    "for experiment in range(30):\n",
    "    c1 = cc1[experiment]\n",
    "    c2 = cc2[experiment]\n",
    "    \n",
    "    coefficients = pywt.wavedec(c1, mother_function, level=levels) + pywt.wavedec(c2, mother_function, level=levels)\n",
    "    max_coefs = []\n",
    "    for coefficient in coefficients:\n",
    "        max_coef = max(coefficient)\n",
    "\n",
    "        max_coefs.append(max_coef)\n",
    "    \n",
    "    cyl_coefs.append(max_coefs)"
   ]
  },
  {
   "cell_type": "code",
   "execution_count": 8,
   "metadata": {},
   "outputs": [],
   "source": [
    "for experiment in range(30):\n",
    "    c1 = tc1[experiment]\n",
    "    c2 = tc2[experiment]\n",
    "    \n",
    "    coefficients = pywt.wavedec(c1, mother_function, level=levels) + pywt.wavedec(c2, mother_function, level=levels)\n",
    "    max_coefs = []\n",
    "    for coefficient in coefficients:\n",
    "        max_coef = max(coefficient)\n",
    "\n",
    "        max_coefs.append(max_coef)\n",
    "    \n",
    "    tip_coefs.append(max_coefs)"
   ]
  },
  {
   "cell_type": "code",
   "execution_count": 9,
   "metadata": {},
   "outputs": [],
   "source": [
    "cdf = pd.DataFrame(cyl_coefs)\n",
    "cdf['out'] = 0"
   ]
  },
  {
   "cell_type": "code",
   "execution_count": 10,
   "metadata": {},
   "outputs": [],
   "source": [
    "tdf = pd.DataFrame(tip_coefs)\n",
    "tdf['out'] = 1"
   ]
  },
  {
   "cell_type": "code",
   "execution_count": 11,
   "metadata": {},
   "outputs": [],
   "source": [
    "dataset = cdf.append(tdf)\n",
    "y = dataset['out']\n",
    "x = dataset.drop(['out'], axis=1)"
   ]
  },
  {
   "cell_type": "code",
   "execution_count": 12,
   "metadata": {},
   "outputs": [],
   "source": [
    "x_train, x_test, y_train, y_test = train_test_split(x, y, test_size=0.3)\n",
    "mlp = MLPClassifier(hidden_layer_sizes=(9), max_iter=5000)"
   ]
  },
  {
   "cell_type": "code",
   "execution_count": 13,
   "metadata": {},
   "outputs": [
    {
     "data": {
      "text/plain": [
       "1.0"
      ]
     },
     "execution_count": 13,
     "metadata": {},
     "output_type": "execute_result"
    }
   ],
   "source": [
    "mlp.fit(x_train, y_train)\n",
    "mlp.score(x_test, y_test)"
   ]
  },
  {
   "cell_type": "code",
   "execution_count": 15,
   "metadata": {},
   "outputs": [
    {
     "data": {
      "text/plain": [
       "array([0, 0, 0, 0, 1, 1, 1, 0, 0, 0, 0, 0, 0, 0, 0, 1, 0, 0], dtype=int64)"
      ]
     },
     "execution_count": 15,
     "metadata": {},
     "output_type": "execute_result"
    }
   ],
   "source": [
    "mlp.predict(x_test)"
   ]
  },
  {
   "cell_type": "code",
   "execution_count": 17,
   "metadata": {},
   "outputs": [
    {
     "data": {
      "text/plain": [
       "array([0, 0, 0, 0, 1, 1, 1, 0, 0, 0, 0, 0, 0, 0, 0, 1, 0, 0], dtype=int64)"
      ]
     },
     "execution_count": 17,
     "metadata": {},
     "output_type": "execute_result"
    }
   ],
   "source": [
    "np.array(y_test)"
   ]
  }
 ],
 "metadata": {
  "kernelspec": {
   "display_name": "Python 3",
   "language": "python",
   "name": "python3"
  },
  "language_info": {
   "codemirror_mode": {
    "name": "ipython",
    "version": 3
   },
   "file_extension": ".py",
   "mimetype": "text/x-python",
   "name": "python",
   "nbconvert_exporter": "python",
   "pygments_lexer": "ipython3",
   "version": "3.9.0"
  }
 },
 "nbformat": 4,
 "nbformat_minor": 4
}
